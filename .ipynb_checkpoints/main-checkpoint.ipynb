{
 "cells": [
  {
   "cell_type": "code",
   "execution_count": 5,
   "metadata": {},
   "outputs": [
    {
     "name": "stdout",
     "output_type": "stream",
     "text": [
      " Financial Analysis\n",
      " -----------------------\n",
      "Total Months : 86\n",
      "Total :$38382578\n",
      "Avarage Change :$-2315.12\n",
      "Greatest Increase in Profits:Feb-2012 ($1926159)\n",
      "Greatest Decrease in Profits:Sep-2013 ($-2196167)\n"
     ]
    },
    {
     "data": {
      "text/plain": [
       "50"
      ]
     },
     "execution_count": 5,
     "metadata": {},
     "output_type": "execute_result"
    }
   ],
   "source": [
    "from pathlib import Path\n",
    "import csv\n",
    "# Set the file path\n",
    "csvpath =Path('Resources/budget_data.csv')\n",
    "\n",
    "\n",
    "# Initialize variable \n",
    "moun = []\n",
    "Change = []\n",
    "ChangeL= []\n",
    "\n",
    "# Initialize line_num variable\n",
    "line_num = 0\n",
    "\n",
    "# Open the input path as a file object\n",
    "with open(csvpath, 'r') as csvfile:\n",
    "\n",
    "    # Pass in the csv file to the csv.reader() function\n",
    "    # (with ',' as the delmiter/separator) and return the csvreader object\n",
    "    csvreader = csv.reader(csvfile, delimiter=',')\n",
    "   \n",
    "    # Go to the next row from the start of the file\n",
    "    # (which is often the first row/header) and iterate line_num by 1\n",
    "    header = next(csvreader)\n",
    "    \n",
    "    for row in csvreader:\n",
    "        \n",
    "        Mounth = row[0]\n",
    "        amount = int(row[1])\n",
    "        \n",
    "        # Append the row \n",
    "        moun.append(Mounth)\n",
    "        line_num += 1\n",
    "        ChangeL.append(amount)\n",
    "        \n",
    "\n",
    "for x in range(len(ChangeL)-1):\n",
    "    \n",
    "      Change.append(ChangeL[x+1]-ChangeL[x])\n",
    "        \n",
    "maxchangeP = Change.index(max(Change)) + 1\n",
    "minchangeP = Change.index(min(Change)) + 1\n",
    "\n",
    "total=sum(Change)\n",
    "print(' Financial Analysis\\n','-----------------------')\n",
    "print('Total Months :' ,line_num)\n",
    "print(f\"Total :${sum(ChangeL)}\")\n",
    "print(f\"Avarage Change :${round(total/(line_num-1),2)}\")\n",
    "print(f\"Greatest Increase in Profits:{moun[maxchangeP]} (${(Change[maxchangeP-1])})\")\n",
    "print(f\"Greatest Decrease in Profits:{moun[minchangeP]} (${(Change[minchangeP-1])})\")\n",
    "\n",
    "#Print the out put in textfile\n",
    "outputfile = open(\"output.txt\",\"w+\")\n",
    "\n",
    "outputfile.write(\"Financial Analysis\\n\")\n",
    "outputfile.write(\"---------------------\\n\")\n",
    "outputfile.write(f\"Total Mounth :{line_num}\\n\")\n",
    "outputfile.write(f\"Total :${sum(ChangeL)}\\n\")\n",
    "outputfile.write(f\"Avarage Change :${round(total/(line_num-1),2)}\\n\")\n",
    "outputfile.write(f\"Greatest Increase in Profits:{moun[maxchangeP]} (${(Change[maxchangeP-1])})\\n\")\n",
    "outputfile.write(f\"Greatest Decrease in Profits:{moun[minchangeP]} (${(Change[minchangeP-1])})\\n\")"
   ]
  },
  {
   "cell_type": "code",
   "execution_count": null,
   "metadata": {},
   "outputs": [],
   "source": []
  }
 ],
 "metadata": {
  "kernelspec": {
   "display_name": "Python 3",
   "language": "python",
   "name": "python3"
  },
  "language_info": {
   "codemirror_mode": {
    "name": "ipython",
    "version": 3
   },
   "file_extension": ".py",
   "mimetype": "text/x-python",
   "name": "python",
   "nbconvert_exporter": "python",
   "pygments_lexer": "ipython3",
   "version": "3.7.6"
  }
 },
 "nbformat": 4,
 "nbformat_minor": 4
}
